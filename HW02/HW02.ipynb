{
 "cells": [
  {
   "cell_type": "code",
   "execution_count": null,
   "metadata": {
    "collapsed": true
   },
   "outputs": [],
   "source": [
    "# 導入module\n",
    "import os"
   ]
  },
  {
   "cell_type": "code",
   "execution_count": null,
   "metadata": {
    "collapsed": true
   },
   "outputs": [],
   "source": [
    "# 定義main function\n",
    "def main(): \n",
    "    print ('Hello world!')\n",
    "    print (\"This Alice's greet.\")\n",
    "    print ('This is Bob\\'s greeting. ')\n",
    "\n",
    "    foo(5, 10)\n",
    "\n",
    "    print('=' * 10)\n",
    "    print('Current working directory is ' + os.getcwd())\n",
    "\n",
    "    counter = 0\n",
    "    counter += 1\n",
    "    \n",
    "    food = ['apple', 'oranges', 'cats']\n",
    "\n",
    "    for i in food:\n",
    "        print('i like eat ' + i)\n",
    "\n",
    "    print('Count to 10')\n",
    "    for i in range(10):\n",
    "        print(i)\n",
    "# 這個是一個自定義的function /讚讚讚\n",
    "def foo(param1, secondParam):\n",
    "    res = param1 + secondParam\n",
    "    print('%s + %s = %s' %(param1,secondParam,res))\n",
    "    if res < 50:\n",
    "        print('foo')\n",
    "    elif (res>=50) and ((param1==42) or (secondParam==24)):\n",
    "        print('bar')\n",
    "    else:\n",
    "        print('moo')\n",
    "    return res\n",
    "    \n",
    "\n",
    "if _name__=='__main_':\n",
    "    main()\n",
    "\n"
   ]
  }
 ],
 "metadata": {
  "kernelspec": {
   "display_name": "Python 3",
   "language": "python",
   "name": "python3"
  },
  "language_info": {
   "codemirror_mode": {
    "name": "ipython",
    "version": 3
   },
   "file_extension": ".py",
   "mimetype": "text/x-python",
   "name": "python",
   "nbconvert_exporter": "python",
   "pygments_lexer": "ipython3",
   "version": "3.6.3"
  }
 },
 "nbformat": 4,
 "nbformat_minor": 2
}
