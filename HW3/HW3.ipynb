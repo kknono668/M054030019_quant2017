{
 "cells": [
  {
   "cell_type": "code",
   "execution_count": 7,
   "metadata": {},
   "outputs": [
    {
     "name": "stdout",
     "output_type": "stream",
     "text": [
      "Requirement already satisfied: requests in ./anaconda3/lib/python3.6/site-packages\n",
      "Requirement already satisfied: chardet<3.1.0,>=3.0.2 in ./anaconda3/lib/python3.6/site-packages (from requests)\n",
      "Requirement already satisfied: idna<2.7,>=2.5 in ./anaconda3/lib/python3.6/site-packages (from requests)\n",
      "Requirement already satisfied: urllib3<1.23,>=1.21.1 in ./anaconda3/lib/python3.6/site-packages (from requests)\n",
      "Requirement already satisfied: certifi>=2017.4.17 in ./anaconda3/lib/python3.6/site-packages (from requests)\n",
      "Collecting BeautifulSoup\n",
      "  Using cached BeautifulSoup-3.2.1.tar.gz\n",
      "    Complete output from command python setup.py egg_info:\n",
      "    Traceback (most recent call last):\n",
      "      File \"<string>\", line 1, in <module>\n",
      "      File \"/private/var/folders/fy/b38bl4qn7gv463wphrf7k1h80000gn/T/pip-build-vqrp78_r/BeautifulSoup/setup.py\", line 22\n",
      "        print \"Unit tests have failed!\"\n",
      "                                      ^\n",
      "    SyntaxError: Missing parentheses in call to 'print'. Did you mean print(int \"Unit tests have failed!\")?\n",
      "    \n",
      "    ----------------------------------------\n",
      "\u001b[31mCommand \"python setup.py egg_info\" failed with error code 1 in /private/var/folders/fy/b38bl4qn7gv463wphrf7k1h80000gn/T/pip-build-vqrp78_r/BeautifulSoup/\u001b[0m\n",
      "Collecting jieba\n",
      "  Downloading jieba-0.39.zip (7.3MB)\n",
      "\u001b[K    100% |████████████████████████████████| 7.3MB 152kB/s ta 0:00:011\n",
      "\u001b[?25hBuilding wheels for collected packages: jieba\n",
      "  Running setup.py bdist_wheel for jieba ... \u001b[?25ldone\n",
      "\u001b[?25h  Stored in directory: /Users/darrenyang/Library/Caches/pip/wheels/ce/32/de/c2be1db5f30804bc7f146ff698c52963f8aa11ba5049811b0d\n",
      "Successfully built jieba\n",
      "Installing collected packages: jieba\n",
      "Successfully installed jieba-0.39\n"
     ]
    }
   ],
   "source": [
    "!pip install requests\n",
    "!pip install BeautifulSoup\n",
    "!pip install jieba"
   ]
  },
  {
   "cell_type": "code",
   "execution_count": 8,
   "metadata": {
    "collapsed": true
   },
   "outputs": [],
   "source": [
    "import requests\n",
    "from bs4 import BeautifulSoup\n",
    "import jieba\n",
    "import jieba.analyse"
   ]
  },
  {
   "cell_type": "code",
   "execution_count": 3,
   "metadata": {
    "collapsed": true
   },
   "outputs": [],
   "source": [
    "url = \"http://news.cnyes.com/Content/20151214/20151214080543107512510.shtml?c=headline\""
   ]
  },
  {
   "cell_type": "code",
   "execution_count": 4,
   "metadata": {
    "collapsed": true
   },
   "outputs": [],
   "source": [
    "r = requests.get(url)\n",
    "r.encoding = \"UTF-8\""
   ]
  },
  {
   "cell_type": "code",
   "execution_count": 5,
   "metadata": {},
   "outputs": [
    {
     "data": {
      "text/plain": [
       "'台股上週五因為信心不足，終場下跌100.28點，以8115.89點作收，成交值874.35億元；周線則以下跌282.71點收長黑。展望今(14)日台股，美股在台灣時間上週六清晨以重挫309點坐收，內外交迫，今天恐回測本波起漲點8059點。\\n回顧上週的台股，上週五周線以長黑的下跌282.71點坐收，賣壓蓋頭，主要是內、外資都不挺台股，主力股、法人股的籌碼面混亂。外資因為美國FED即將升息，在期、現聯手偏空操作，內資法人則是因為年底做賬，獲利了結出場。\\xa0\\n而在台灣時間上週六(12日)清晨收盤的美股，則因油價接近7年低點，加上併購案暗示經濟不佳，道瓊以重挫309點坐收，再度不利台股的止跌回升。\\n法人預期，若是外、內資繼續賣超台股，今天恐將回測本波起漲點8059點。在此賣壓籠罩的盤勢之下，低P/E、高現金殖利率或產業即將谷底翻升的個股，是現階段可以逢低酌量佈局的投資標的。\\n重大新聞方面，焦點還是中國紫光在台灣與全球的併購。國民黨總統候選人朱立倫日前表態，IC設計產業對台灣經濟非常敏感，若他當選總統，不會允許IC設計業對中國開放投資，因為現在時機尚未成熟。\\n而紫光集團董事長趙偉國昨日對媒體表示，投資力成、矽品與南茂，和軍事、安全沒有關係，紫光也不謀求對企業的控制權，更不存在壟斷問題，他看不出不批准的理由。\\n另一方面，紫光集團下一步將爭取入股美光及英特爾兩大握有記憶體關鍵技術的大廠，合作案已進入緊鑼密鼓階段。值此之際，台廠再度扮演關鍵角色，美光近期將整合旗下華亞科、瑞晶等廠區製造資源，以為與紫光合作預做準備。'"
      ]
     },
     "execution_count": 5,
     "metadata": {},
     "output_type": "execute_result"
    }
   ],
   "source": [
    "soup = BeautifulSoup(r.text,\"lxml\")\n",
    "news_text = soup.select('div[itemprop=\"articleBody\"]')[0].text\n",
    "news_text"
   ]
  },
  {
   "cell_type": "code",
   "execution_count": 6,
   "metadata": {},
   "outputs": [
    {
     "data": {
      "text/plain": [
       "'台股上週五因為信心不足，終場下跌100.28點，以8115.89點作收，成交值874.35億元；周線則以下跌282.71點收長黑。展望今(14)日台股，美股在台灣時間上週六清晨以重挫309點坐收，內外交迫，今天恐回測本波起漲點8059點。'"
      ]
     },
     "execution_count": 6,
     "metadata": {},
     "output_type": "execute_result"
    }
   ],
   "source": [
    "news_summary = soup.select('p')[0].text\n",
    "news_summary"
   ]
  },
  {
   "cell_type": "code",
   "execution_count": 9,
   "metadata": {},
   "outputs": [
    {
     "ename": "Exception",
     "evalue": "jieba: file does not exist: /Users/darrenyang/dict.txt.big",
     "output_type": "error",
     "traceback": [
      "\u001b[0;31m---------------------------------------------------------------------------\u001b[0m",
      "\u001b[0;31mException\u001b[0m                                 Traceback (most recent call last)",
      "\u001b[0;32m<ipython-input-9-c6f40d57b87f>\u001b[0m in \u001b[0;36m<module>\u001b[0;34m()\u001b[0m\n\u001b[0;32m----> 1\u001b[0;31m \u001b[0mjieba\u001b[0m\u001b[0;34m.\u001b[0m\u001b[0mset_dictionary\u001b[0m\u001b[0;34m(\u001b[0m\u001b[0;34m'dict.txt.big'\u001b[0m\u001b[0;34m)\u001b[0m\u001b[0;34m\u001b[0m\u001b[0m\n\u001b[0m",
      "\u001b[0;32m~/anaconda3/lib/python3.6/site-packages/jieba/__init__.py\u001b[0m in \u001b[0;36mset_dictionary\u001b[0;34m(self, dictionary_path)\u001b[0m\n\u001b[1;32m    487\u001b[0m             \u001b[0mabs_path\u001b[0m \u001b[0;34m=\u001b[0m \u001b[0m_get_abs_path\u001b[0m\u001b[0;34m(\u001b[0m\u001b[0mdictionary_path\u001b[0m\u001b[0;34m)\u001b[0m\u001b[0;34m\u001b[0m\u001b[0m\n\u001b[1;32m    488\u001b[0m             \u001b[0;32mif\u001b[0m \u001b[0;32mnot\u001b[0m \u001b[0mos\u001b[0m\u001b[0;34m.\u001b[0m\u001b[0mpath\u001b[0m\u001b[0;34m.\u001b[0m\u001b[0misfile\u001b[0m\u001b[0;34m(\u001b[0m\u001b[0mabs_path\u001b[0m\u001b[0;34m)\u001b[0m\u001b[0;34m:\u001b[0m\u001b[0;34m\u001b[0m\u001b[0m\n\u001b[0;32m--> 489\u001b[0;31m                 \u001b[0;32mraise\u001b[0m \u001b[0mException\u001b[0m\u001b[0;34m(\u001b[0m\u001b[0;34m\"jieba: file does not exist: \"\u001b[0m \u001b[0;34m+\u001b[0m \u001b[0mabs_path\u001b[0m\u001b[0;34m)\u001b[0m\u001b[0;34m\u001b[0m\u001b[0m\n\u001b[0m\u001b[1;32m    490\u001b[0m             \u001b[0mself\u001b[0m\u001b[0;34m.\u001b[0m\u001b[0mdictionary\u001b[0m \u001b[0;34m=\u001b[0m \u001b[0mabs_path\u001b[0m\u001b[0;34m\u001b[0m\u001b[0m\n\u001b[1;32m    491\u001b[0m             \u001b[0mself\u001b[0m\u001b[0;34m.\u001b[0m\u001b[0minitialized\u001b[0m \u001b[0;34m=\u001b[0m \u001b[0;32mFalse\u001b[0m\u001b[0;34m\u001b[0m\u001b[0m\n",
      "\u001b[0;31mException\u001b[0m: jieba: file does not exist: /Users/darrenyang/dict.txt.big"
     ]
    }
   ],
   "source": [
    "jieba.set_dictionary('dict.txt.big')"
   ]
  },
  {
   "cell_type": "code",
   "execution_count": 10,
   "metadata": {},
   "outputs": [
    {
     "name": "stderr",
     "output_type": "stream",
     "text": [
      "Building prefix dict from the default dictionary ...\n",
      "Dumping model to file cache /var/folders/fy/b38bl4qn7gv463wphrf7k1h80000gn/T/jieba.cache\n",
      "Loading model cost 1.503 seconds.\n",
      "Prefix dict has been built succesfully.\n"
     ]
    }
   ],
   "source": [
    "keywords = jieba.analyse.extract_tags(news_text, topK=10, withWeight=False)"
   ]
  },
  {
   "cell_type": "code",
   "execution_count": 11,
   "metadata": {},
   "outputs": [
    {
     "name": "stdout",
     "output_type": "stream",
     "text": [
      "紫光/ 台股/ 台灣/ 坐收/ 282.71/ 美股/ 時間/ 週六/ 309/ 漲點\n"
     ]
    }
   ],
   "source": [
    "\n",
    "print (\"/ \".join(keywords))"
   ]
  },
  {
   "cell_type": "code",
   "execution_count": 12,
   "metadata": {},
   "outputs": [
    {
     "name": "stdout",
     "output_type": "stream",
     "text": [
      "[('紫光', 0.2359927048907143), ('台股', 0.22770985719809522), ('台灣', 0.22770985719809522), ('坐收', 0.15203687305714286), ('282.71', 0.11385492859904761), ('美股', 0.11385492859904761), ('時間', 0.11385492859904761), ('週六', 0.11385492859904761), ('309', 0.11385492859904761), ('漲點', 0.11385492859904761)]\n"
     ]
    }
   ],
   "source": [
    "print(repr(jieba.analyse.extract_tags(news_text, topK=10, withWeight=True)))"
   ]
  },
  {
   "cell_type": "code",
   "execution_count": 13,
   "metadata": {},
   "outputs": [
    {
     "name": "stdout",
     "output_type": "stream",
     "text": [
      "[('坐收', 1.0), ('投資', 0.937358898312438), ('產業', 0.9137121813861436), ('台灣', 0.8701298636106816), ('下跌', 0.8346040590604339), ('關鍵', 0.7529930500810723), ('中國', 0.7156383545530238), ('內資', 0.6705947113787015), ('合作', 0.6625992095514125), ('看不出', 0.6062234879548284)]\n"
     ]
    }
   ],
   "source": [
    "print (repr(jieba.analyse.textrank(news_text, topK=10, withWeight=True)))"
   ]
  },
  {
   "cell_type": "code",
   "execution_count": 14,
   "metadata": {
    "collapsed": true
   },
   "outputs": [],
   "source": [
    "def index_of_keyword(sentences, keyword):\n",
    "    for i, s in enumerate(sentences):\n",
    "        if keyword in s:\n",
    "              return i\n",
    "    return -1"
   ]
  },
  {
   "cell_type": "code",
   "execution_count": 15,
   "metadata": {},
   "outputs": [
    {
     "data": {
      "text/plain": [
       "13"
      ]
     },
     "execution_count": 15,
     "metadata": {},
     "output_type": "execute_result"
    }
   ],
   "source": [
    "sentences = news_text.replace(\"\\n\",\"\").split(u\"。\")\n",
    "len(sentences)"
   ]
  },
  {
   "cell_type": "code",
   "execution_count": 16,
   "metadata": {},
   "outputs": [
    {
     "name": "stdout",
     "output_type": "stream",
     "text": [
      "台股上週五因為信心不足，終場下跌100.28點，以8115.89點作收，成交值874.35億元；周線則以下跌282.71點收長黑。\n",
      "展望今(14)日台股，美股在台灣時間上週六清晨以重挫309點坐收，內外交迫，今天恐回測本波起漲點8059點。\n",
      "回顧上週的台股，上週五周線以長黑的下跌282.71點坐收，賣壓蓋頭，主要是內、外資都不挺台股，主力股、法人股的籌碼面混亂。\n",
      "外資因為美國FED即將升息，在期、現聯手偏空操作，內資法人則是因為年底做賬，獲利了結出場。\n",
      " 而在台灣時間上週六(12日)清晨收盤的美股，則因油價接近7年低點，加上併購案暗示經濟不佳，道瓊以重挫309點坐收，再度不利台股的止跌回升。\n",
      "法人預期，若是外、內資繼續賣超台股，今天恐將回測本波起漲點8059點。\n",
      "在此賣壓籠罩的盤勢之下，低P/E、高現金殖利率或產業即將谷底翻升的個股，是現階段可以逢低酌量佈局的投資標的。\n",
      "重大新聞方面，焦點還是中國紫光在台灣與全球的併購。\n",
      "國民黨總統候選人朱立倫日前表態，IC設計產業對台灣經濟非常敏感，若他當選總統，不會允許IC設計業對中國開放投資，因為現在時機尚未成熟。\n",
      "而紫光集團董事長趙偉國昨日對媒體表示，投資力成、矽品與南茂，和軍事、安全沒有關係，紫光也不謀求對企業的控制權，更不存在壟斷問題，他看不出不批准的理由。\n",
      "另一方面，紫光集團下一步將爭取入股美光及英特爾兩大握有記憶體關鍵技術的大廠，合作案已進入緊鑼密鼓階段。\n",
      "值此之際，台廠再度扮演關鍵角色，美光近期將整合旗下華亞科、瑞晶等廠區製造資源，以為與紫光合作預做準備。\n",
      "。\n"
     ]
    }
   ],
   "source": [
    "for sentence in sentences:\n",
    "    print (sentence + u\"。\")"
   ]
  },
  {
   "cell_type": "code",
   "execution_count": 17,
   "metadata": {},
   "outputs": [
    {
     "data": {
      "text/plain": [
       "7"
      ]
     },
     "execution_count": 17,
     "metadata": {},
     "output_type": "execute_result"
    }
   ],
   "source": [
    "index_of_keyword(sentences,u\"紫光\")"
   ]
  },
  {
   "cell_type": "code",
   "execution_count": 18,
   "metadata": {},
   "outputs": [
    {
     "name": "stdout",
     "output_type": "stream",
     "text": [
      "重大新聞方面，焦點還是中國紫光在台灣與全球的併購。\n"
     ]
    }
   ],
   "source": [
    "print (sentences[index_of_keyword(sentences,u\"紫光\")]+u\"。\")"
   ]
  },
  {
   "cell_type": "code",
   "execution_count": 19,
   "metadata": {},
   "outputs": [
    {
     "data": {
      "text/plain": [
       "64"
      ]
     },
     "execution_count": 19,
     "metadata": {},
     "output_type": "execute_result"
    }
   ],
   "source": [
    "len(sentences[0])"
   ]
  },
  {
   "cell_type": "code",
   "execution_count": 20,
   "metadata": {
    "collapsed": true
   },
   "outputs": [],
   "source": [
    "s_index = []\n",
    "for keyword in keywords[:3]:\n",
    "    s_index.append(index_of_keyword(sentences,keyword))\n",
    "\n",
    "s_set = set(s_index)\n",
    "s_index = list(s_set)"
   ]
  },
  {
   "cell_type": "code",
   "execution_count": 21,
   "metadata": {
    "collapsed": true
   },
   "outputs": [],
   "source": [
    "summary = \"\"\n",
    "for i in s_index:\n",
    "    summary += sentences[i]+u\"。\"\n"
   ]
  },
  {
   "cell_type": "code",
   "execution_count": 22,
   "metadata": {},
   "outputs": [
    {
     "name": "stdout",
     "output_type": "stream",
     "text": [
      "台股上週五因為信心不足，終場下跌100.28點，以8115.89點作收，成交值874.35億元；周線則以下跌282.71點收長黑。展望今(14)日台股，美股在台灣時間上週六清晨以重挫309點坐收，內外交迫，今天恐回測本波起漲點8059點。重大新聞方面，焦點還是中國紫光在台灣與全球的併購。\n"
     ]
    }
   ],
   "source": [
    "print (summary)"
   ]
  },
  {
   "cell_type": "code",
   "execution_count": 23,
   "metadata": {},
   "outputs": [
    {
     "name": "stdout",
     "output_type": "stream",
     "text": [
      "台股上週五因為信心不足，終場下跌100.28點，以8115.89點作收，成交值874.35億元；周線則以下跌282.71點收長黑。展望今(14)日台股，美股在台灣時間上週六清晨以重挫309點坐收，內外交迫，今天恐回測本波起漲點8059點。\n"
     ]
    }
   ],
   "source": [
    "print (news_summary)"
   ]
  },
  {
   "cell_type": "code",
   "execution_count": null,
   "metadata": {
    "collapsed": true
   },
   "outputs": [],
   "source": []
  }
 ],
 "metadata": {
  "kernelspec": {
   "display_name": "Python 3",
   "language": "python",
   "name": "python3"
  },
  "language_info": {
   "codemirror_mode": {
    "name": "ipython",
    "version": 3
   },
   "file_extension": ".py",
   "mimetype": "text/x-python",
   "name": "python",
   "nbconvert_exporter": "python",
   "pygments_lexer": "ipython3",
   "version": "3.6.3"
  }
 },
 "nbformat": 4,
 "nbformat_minor": 2
}
